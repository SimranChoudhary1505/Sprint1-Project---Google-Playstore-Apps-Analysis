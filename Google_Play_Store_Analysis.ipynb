{
  "nbformat": 4,
  "nbformat_minor": 0,
  "metadata": {
    "colab": {
      "provenance": []
    },
    "kernelspec": {
      "name": "python3",
      "display_name": "Python 3"
    },
    "language_info": {
      "name": "python"
    }
  },
  "cells": [
    {
      "cell_type": "markdown",
      "source": [
        "#**Google Play Store Apps Analysis**"
      ],
      "metadata": {
        "id": "8KYrnDAgPCyn"
      }
    },
    {
      "cell_type": "markdown",
      "source": [
        "Problem Statement:\n",
        "\n",
        "\"What are the key factors that influence the success of Google Play Store apps in terms of user ratings, downloads, and revenue, and how can developers optimize these factors to enhance user engagement and profitability?\"\n",
        "\n"
      ],
      "metadata": {
        "id": "q8U3OXKApFBm"
      }
    },
    {
      "cell_type": "markdown",
      "source": [
        "# Apps Data\n"
      ],
      "metadata": {
        "id": "RZnczS3pFT4h"
      }
    },
    {
      "cell_type": "markdown",
      "source": [
        "## Data Cleaning"
      ],
      "metadata": {
        "id": "NjVYmd2ljBjt"
      }
    },
    {
      "cell_type": "markdown",
      "source": [
        "First we imported important libraries\n"
      ],
      "metadata": {
        "id": "UvrMmIDCzp8E"
      }
    },
    {
      "cell_type": "code",
      "execution_count": null,
      "metadata": {
        "id": "S8RS7f1hn7qv"
      },
      "outputs": [],
      "source": [
        "# Import libraries\n",
        "\n",
        "import numpy as np\n",
        "import pandas as pd\n",
        "import matplotlib.pyplot as plt\n",
        "import seaborn as sns"
      ]
    },
    {
      "cell_type": "markdown",
      "source": [
        "Then we loaded our apps data file\n",
        "\n"
      ],
      "metadata": {
        "id": "8C9dcWTNz3yC"
      }
    },
    {
      "cell_type": "code",
      "source": [
        "from google.colab import drive\n",
        "drive.mount('/content/drive')"
      ],
      "metadata": {
        "colab": {
          "base_uri": "https://localhost:8080/"
        },
        "id": "7PThfhFdxhp6",
        "outputId": "3d86ae3e-1380-4559-c4f0-1404fb7c385a"
      },
      "execution_count": null,
      "outputs": [
        {
          "output_type": "stream",
          "name": "stdout",
          "text": [
            "Drive already mounted at /content/drive; to attempt to forcibly remount, call drive.mount(\"/content/drive\", force_remount=True).\n"
          ]
        }
      ]
    },
    {
      "cell_type": "code",
      "source": [
        "# Import App Data File\n",
        "df = pd.read_csv('/content/drive/MyDrive/Anudip (Python )/googleplaystore.csv')"
      ],
      "metadata": {
        "id": "8p-nXEsXn9FW",
        "outputId": "b367cce7-3e9c-424e-906a-e559039a9362",
        "colab": {
          "base_uri": "https://localhost:8080/",
          "height": 373
        }
      },
      "execution_count": null,
      "outputs": [
        {
          "output_type": "error",
          "ename": "FileNotFoundError",
          "evalue": "[Errno 2] No such file or directory: '/content/drive/MyDrive/Anudip (Python )/googleplaystore.csv'",
          "traceback": [
            "\u001b[0;31m---------------------------------------------------------------------------\u001b[0m",
            "\u001b[0;31mFileNotFoundError\u001b[0m                         Traceback (most recent call last)",
            "\u001b[0;32m<ipython-input-18-e079bb8c7fab>\u001b[0m in \u001b[0;36m<cell line: 2>\u001b[0;34m()\u001b[0m\n\u001b[1;32m      1\u001b[0m \u001b[0;31m# Import App Data File\u001b[0m\u001b[0;34m\u001b[0m\u001b[0;34m\u001b[0m\u001b[0m\n\u001b[0;32m----> 2\u001b[0;31m \u001b[0mdf\u001b[0m \u001b[0;34m=\u001b[0m \u001b[0mpd\u001b[0m\u001b[0;34m.\u001b[0m\u001b[0mread_csv\u001b[0m\u001b[0;34m(\u001b[0m\u001b[0;34m'/content/drive/MyDrive/Anudip (Python )/googleplaystore.csv'\u001b[0m\u001b[0;34m)\u001b[0m\u001b[0;34m\u001b[0m\u001b[0;34m\u001b[0m\u001b[0m\n\u001b[0m",
            "\u001b[0;32m/usr/local/lib/python3.10/dist-packages/pandas/io/parsers/readers.py\u001b[0m in \u001b[0;36mread_csv\u001b[0;34m(filepath_or_buffer, sep, delimiter, header, names, index_col, usecols, dtype, engine, converters, true_values, false_values, skipinitialspace, skiprows, skipfooter, nrows, na_values, keep_default_na, na_filter, verbose, skip_blank_lines, parse_dates, infer_datetime_format, keep_date_col, date_parser, date_format, dayfirst, cache_dates, iterator, chunksize, compression, thousands, decimal, lineterminator, quotechar, quoting, doublequote, escapechar, comment, encoding, encoding_errors, dialect, on_bad_lines, delim_whitespace, low_memory, memory_map, float_precision, storage_options, dtype_backend)\u001b[0m\n\u001b[1;32m   1024\u001b[0m     \u001b[0mkwds\u001b[0m\u001b[0;34m.\u001b[0m\u001b[0mupdate\u001b[0m\u001b[0;34m(\u001b[0m\u001b[0mkwds_defaults\u001b[0m\u001b[0;34m)\u001b[0m\u001b[0;34m\u001b[0m\u001b[0;34m\u001b[0m\u001b[0m\n\u001b[1;32m   1025\u001b[0m \u001b[0;34m\u001b[0m\u001b[0m\n\u001b[0;32m-> 1026\u001b[0;31m     \u001b[0;32mreturn\u001b[0m \u001b[0m_read\u001b[0m\u001b[0;34m(\u001b[0m\u001b[0mfilepath_or_buffer\u001b[0m\u001b[0;34m,\u001b[0m \u001b[0mkwds\u001b[0m\u001b[0;34m)\u001b[0m\u001b[0;34m\u001b[0m\u001b[0;34m\u001b[0m\u001b[0m\n\u001b[0m\u001b[1;32m   1027\u001b[0m \u001b[0;34m\u001b[0m\u001b[0m\n\u001b[1;32m   1028\u001b[0m \u001b[0;34m\u001b[0m\u001b[0m\n",
            "\u001b[0;32m/usr/local/lib/python3.10/dist-packages/pandas/io/parsers/readers.py\u001b[0m in \u001b[0;36m_read\u001b[0;34m(filepath_or_buffer, kwds)\u001b[0m\n\u001b[1;32m    618\u001b[0m \u001b[0;34m\u001b[0m\u001b[0m\n\u001b[1;32m    619\u001b[0m     \u001b[0;31m# Create the parser.\u001b[0m\u001b[0;34m\u001b[0m\u001b[0;34m\u001b[0m\u001b[0m\n\u001b[0;32m--> 620\u001b[0;31m     \u001b[0mparser\u001b[0m \u001b[0;34m=\u001b[0m \u001b[0mTextFileReader\u001b[0m\u001b[0;34m(\u001b[0m\u001b[0mfilepath_or_buffer\u001b[0m\u001b[0;34m,\u001b[0m \u001b[0;34m**\u001b[0m\u001b[0mkwds\u001b[0m\u001b[0;34m)\u001b[0m\u001b[0;34m\u001b[0m\u001b[0;34m\u001b[0m\u001b[0m\n\u001b[0m\u001b[1;32m    621\u001b[0m \u001b[0;34m\u001b[0m\u001b[0m\n\u001b[1;32m    622\u001b[0m     \u001b[0;32mif\u001b[0m \u001b[0mchunksize\u001b[0m \u001b[0;32mor\u001b[0m \u001b[0miterator\u001b[0m\u001b[0;34m:\u001b[0m\u001b[0;34m\u001b[0m\u001b[0;34m\u001b[0m\u001b[0m\n",
            "\u001b[0;32m/usr/local/lib/python3.10/dist-packages/pandas/io/parsers/readers.py\u001b[0m in \u001b[0;36m__init__\u001b[0;34m(self, f, engine, **kwds)\u001b[0m\n\u001b[1;32m   1618\u001b[0m \u001b[0;34m\u001b[0m\u001b[0m\n\u001b[1;32m   1619\u001b[0m         \u001b[0mself\u001b[0m\u001b[0;34m.\u001b[0m\u001b[0mhandles\u001b[0m\u001b[0;34m:\u001b[0m \u001b[0mIOHandles\u001b[0m \u001b[0;34m|\u001b[0m \u001b[0;32mNone\u001b[0m \u001b[0;34m=\u001b[0m \u001b[0;32mNone\u001b[0m\u001b[0;34m\u001b[0m\u001b[0;34m\u001b[0m\u001b[0m\n\u001b[0;32m-> 1620\u001b[0;31m         \u001b[0mself\u001b[0m\u001b[0;34m.\u001b[0m\u001b[0m_engine\u001b[0m \u001b[0;34m=\u001b[0m \u001b[0mself\u001b[0m\u001b[0;34m.\u001b[0m\u001b[0m_make_engine\u001b[0m\u001b[0;34m(\u001b[0m\u001b[0mf\u001b[0m\u001b[0;34m,\u001b[0m \u001b[0mself\u001b[0m\u001b[0;34m.\u001b[0m\u001b[0mengine\u001b[0m\u001b[0;34m)\u001b[0m\u001b[0;34m\u001b[0m\u001b[0;34m\u001b[0m\u001b[0m\n\u001b[0m\u001b[1;32m   1621\u001b[0m \u001b[0;34m\u001b[0m\u001b[0m\n\u001b[1;32m   1622\u001b[0m     \u001b[0;32mdef\u001b[0m \u001b[0mclose\u001b[0m\u001b[0;34m(\u001b[0m\u001b[0mself\u001b[0m\u001b[0;34m)\u001b[0m \u001b[0;34m->\u001b[0m \u001b[0;32mNone\u001b[0m\u001b[0;34m:\u001b[0m\u001b[0;34m\u001b[0m\u001b[0;34m\u001b[0m\u001b[0m\n",
            "\u001b[0;32m/usr/local/lib/python3.10/dist-packages/pandas/io/parsers/readers.py\u001b[0m in \u001b[0;36m_make_engine\u001b[0;34m(self, f, engine)\u001b[0m\n\u001b[1;32m   1878\u001b[0m                 \u001b[0;32mif\u001b[0m \u001b[0;34m\"b\"\u001b[0m \u001b[0;32mnot\u001b[0m \u001b[0;32min\u001b[0m \u001b[0mmode\u001b[0m\u001b[0;34m:\u001b[0m\u001b[0;34m\u001b[0m\u001b[0;34m\u001b[0m\u001b[0m\n\u001b[1;32m   1879\u001b[0m                     \u001b[0mmode\u001b[0m \u001b[0;34m+=\u001b[0m \u001b[0;34m\"b\"\u001b[0m\u001b[0;34m\u001b[0m\u001b[0;34m\u001b[0m\u001b[0m\n\u001b[0;32m-> 1880\u001b[0;31m             self.handles = get_handle(\n\u001b[0m\u001b[1;32m   1881\u001b[0m                 \u001b[0mf\u001b[0m\u001b[0;34m,\u001b[0m\u001b[0;34m\u001b[0m\u001b[0;34m\u001b[0m\u001b[0m\n\u001b[1;32m   1882\u001b[0m                 \u001b[0mmode\u001b[0m\u001b[0;34m,\u001b[0m\u001b[0;34m\u001b[0m\u001b[0;34m\u001b[0m\u001b[0m\n",
            "\u001b[0;32m/usr/local/lib/python3.10/dist-packages/pandas/io/common.py\u001b[0m in \u001b[0;36mget_handle\u001b[0;34m(path_or_buf, mode, encoding, compression, memory_map, is_text, errors, storage_options)\u001b[0m\n\u001b[1;32m    871\u001b[0m         \u001b[0;32mif\u001b[0m \u001b[0mioargs\u001b[0m\u001b[0;34m.\u001b[0m\u001b[0mencoding\u001b[0m \u001b[0;32mand\u001b[0m \u001b[0;34m\"b\"\u001b[0m \u001b[0;32mnot\u001b[0m \u001b[0;32min\u001b[0m \u001b[0mioargs\u001b[0m\u001b[0;34m.\u001b[0m\u001b[0mmode\u001b[0m\u001b[0;34m:\u001b[0m\u001b[0;34m\u001b[0m\u001b[0;34m\u001b[0m\u001b[0m\n\u001b[1;32m    872\u001b[0m             \u001b[0;31m# Encoding\u001b[0m\u001b[0;34m\u001b[0m\u001b[0;34m\u001b[0m\u001b[0m\n\u001b[0;32m--> 873\u001b[0;31m             handle = open(\n\u001b[0m\u001b[1;32m    874\u001b[0m                 \u001b[0mhandle\u001b[0m\u001b[0;34m,\u001b[0m\u001b[0;34m\u001b[0m\u001b[0;34m\u001b[0m\u001b[0m\n\u001b[1;32m    875\u001b[0m                 \u001b[0mioargs\u001b[0m\u001b[0;34m.\u001b[0m\u001b[0mmode\u001b[0m\u001b[0;34m,\u001b[0m\u001b[0;34m\u001b[0m\u001b[0;34m\u001b[0m\u001b[0m\n",
            "\u001b[0;31mFileNotFoundError\u001b[0m: [Errno 2] No such file or directory: '/content/drive/MyDrive/Anudip (Python )/googleplaystore.csv'"
          ]
        }
      ]
    },
    {
      "cell_type": "code",
      "source": [
        "# Checked the Shape (Row, Coloumn) of our data\n",
        "df.shape"
      ],
      "metadata": {
        "id": "lggA9s_voPKo"
      },
      "execution_count": null,
      "outputs": []
    },
    {
      "cell_type": "markdown",
      "source": [
        "Then we have checked the data to understand its structure and identify any issues such as missing values, duplicate data, incorrect data types, and many more."
      ],
      "metadata": {
        "id": "HwEKQF-3zgdV"
      }
    },
    {
      "cell_type": "code",
      "source": [
        "# Print first 5 rows\n",
        "df.head()"
      ],
      "metadata": {
        "id": "rR38BzPToPJd"
      },
      "execution_count": null,
      "outputs": []
    },
    {
      "cell_type": "code",
      "source": [
        "# Gives information about data\n",
        "df.info()"
      ],
      "metadata": {
        "id": "BFs5qnVQoPFU"
      },
      "execution_count": null,
      "outputs": []
    },
    {
      "cell_type": "code",
      "source": [
        "# Check for null values\n",
        "pd.isnull(df).sum()"
      ],
      "metadata": {
        "id": "g5UzvN1noPES"
      },
      "execution_count": null,
      "outputs": []
    },
    {
      "cell_type": "code",
      "source": [
        "# Fill null coloumns --> Forward filling method\n",
        "df.fillna(method='ffill', inplace=True)"
      ],
      "metadata": {
        "id": "xVeIkyMBoO-m"
      },
      "execution_count": null,
      "outputs": []
    },
    {
      "cell_type": "code",
      "source": [
        "# Checking if there is any duplicate row\n",
        "duplicate_count = df.duplicated().sum()\n",
        "print(f\"Number of duplicate rows: {duplicate_count}\")"
      ],
      "metadata": {
        "id": "NtLcec9JoO5Y"
      },
      "execution_count": null,
      "outputs": []
    },
    {
      "cell_type": "code",
      "source": [
        "# Removes duplicate rows\n",
        "df.drop_duplicates(inplace=True)"
      ],
      "metadata": {
        "id": "BRRxxUtMoO1T"
      },
      "execution_count": null,
      "outputs": []
    },
    {
      "cell_type": "code",
      "source": [
        "# how many unique values are there\n",
        "df.nunique()"
      ],
      "metadata": {
        "id": "hlbjoFtpkQT8"
      },
      "execution_count": null,
      "outputs": []
    },
    {
      "cell_type": "code",
      "source": [
        "# cleaning Installs column (removing unwanted symbols or letters)\n",
        "# remove + and comma(,) from the values\n",
        "\n",
        "df['Installs'] = df['Installs'].apply(lambda x: x.replace('+', '') if '+' in str(x) else x) # removing +\n",
        "df['Installs'] = df['Installs'].apply(lambda x: x.replace(',', '') if ',' in str(x) else x) # removing ,\n",
        "df = df[df['Installs'].str.isnumeric()]\n",
        "df['Installs'] = df['Installs'].astype(int)"
      ],
      "metadata": {
        "id": "PNb8KrmsknSJ"
      },
      "execution_count": null,
      "outputs": []
    },
    {
      "cell_type": "code",
      "source": [
        "# cleaning Price column (removing unwanted symbols or letters)\n",
        "# removing $ sign\n",
        "\n",
        "df['Price'] = df['Price'].apply(lambda x: str(x).replace('$', '') if '$' in str(x) else str(x))\n",
        "df['Price'] = df['Price'].apply(lambda x: float(x)) # converting into float"
      ],
      "metadata": {
        "id": "zFYD60buknMz"
      },
      "execution_count": null,
      "outputs": []
    },
    {
      "cell_type": "code",
      "source": [
        "# cleaning Size column  (removing unwanted symbols or letters)\n",
        "\n",
        "df['Size'] = df['Size'].apply(lambda x: str(x).replace('Varies with device', 'NaN') if 'Varies with device' in str(x) else x)\n",
        "\n",
        "df['Size'] = df['Size'].apply(lambda x: str(x).replace('M', '') if 'M' in str(x) else x)\n",
        "df['Size'] = df['Size'].apply(lambda x: str(x).replace(',', '') if ',' in str(x) else x)\n",
        "df['Size'] = df['Size'].apply(lambda x: float(str(x).replace('k', '')) / 1000 if 'k' in str(x) else x)\n",
        "\n",
        "df['Size'] = df['Size'].apply(lambda x: float(x))\n",
        "df['Installs'] = df['Installs'].apply(lambda x: float(x))"
      ],
      "metadata": {
        "id": "bwsadS9Ol4C9"
      },
      "execution_count": null,
      "outputs": []
    },
    {
      "cell_type": "code",
      "source": [
        "# Cleaning review column (setting dtype)\n",
        "df['Reviews'] = df['Reviews'].apply(lambda x: int(x))"
      ],
      "metadata": {
        "id": "oG1_yzIdGeNh"
      },
      "execution_count": null,
      "outputs": []
    },
    {
      "cell_type": "code",
      "source": [
        "# Again checking null values beacause above we have replaced values with NAN\n",
        "pd.isnull(df).sum()"
      ],
      "metadata": {
        "id": "6t18vHhYmxyb"
      },
      "execution_count": null,
      "outputs": []
    },
    {
      "cell_type": "code",
      "source": [
        "# Again Filling null coloumns --> Forward filling\n",
        "df.fillna(method='ffill', inplace=True)"
      ],
      "metadata": {
        "id": "vfjWSQ68nJhu"
      },
      "execution_count": null,
      "outputs": []
    },
    {
      "cell_type": "code",
      "source": [
        "# After cleaning this is our final shape of data\n",
        "df.shape"
      ],
      "metadata": {
        "id": "5LMMnKRXnS-V"
      },
      "execution_count": null,
      "outputs": []
    },
    {
      "cell_type": "markdown",
      "source": [
        "## Data Visulaization\n",
        "Here, we have done Data Visualization using various plots and charts\n"
      ],
      "metadata": {
        "id": "0mfddZ7zpikU"
      }
    },
    {
      "cell_type": "markdown",
      "source": [
        "## Count of Apps by Category\n",
        "This code generates a countplot that shows the number of apps by category. From this plot, we can observe that the top 3 categories with the highest app counts are Family, Games, and Tools."
      ],
      "metadata": {
        "id": "KDiCHSgdyXNJ"
      }
    },
    {
      "cell_type": "code",
      "source": [
        "colormap = plt.get_cmap(\"inferno\")\n",
        "num_categories = df[\"Category\"].nunique()\n",
        "colors = [colormap(i / num_categories) for i in range(num_categories)]   # Generate list of colors\n",
        "\n",
        "plt.figure(figsize=(15, 6))\n",
        "sns.countplot(x = df[\"Category\"],palette=colors)\n",
        "plt.xticks(rotation=90, fontsize=7)\n",
        "plt.title(\"Count of Apps by Category\")\n",
        "plt.show()"
      ],
      "metadata": {
        "id": "pXlrixqcn9GQ"
      },
      "execution_count": null,
      "outputs": []
    },
    {
      "cell_type": "markdown",
      "source": [
        "## Average of Rating\n",
        "This code calculates and prints the average rating of apps from a dataset.\n"
      ],
      "metadata": {
        "id": "tyMkvODZqZ8K"
      }
    },
    {
      "cell_type": "code",
      "source": [
        "# Average of rating\n",
        "avg = np.mean(df[\"Rating\"])\n",
        "print(\"Average rating of apps\", round(avg,2))"
      ],
      "metadata": {
        "id": "zP_8SHRmoOqW"
      },
      "execution_count": null,
      "outputs": []
    },
    {
      "cell_type": "markdown",
      "source": [
        "## No. of Apps based on their Rating\n",
        "This code generates douout chart which shows no. of apps based on thier rating. From this we can see that large no. of apps lies within the rating range 4 to 4.5."
      ],
      "metadata": {
        "id": "EXuHQHGj1yxh"
      }
    },
    {
      "cell_type": "code",
      "source": [
        "# Define labels and values\n",
        "labels = [\"1.5-3\", \"3-3.5\", \"3.5-4\", \"4-4.5\", \"4.5-5\"]\n",
        "\n",
        "values = [\n",
        "    (df[\"Rating\"] < 3).sum(),\n",
        "    (df[\"Rating\"] < 3.5).sum() - (df[\"Rating\"] < 3).sum(),  # Subtract previous range\n",
        "    (df[\"Rating\"] < 4).sum() - (df[\"Rating\"] < 3.5).sum(),\n",
        "    (df[\"Rating\"] < 4.5).sum() - (df[\"Rating\"] < 4).sum(),\n",
        "    (df[\"Rating\"] < 5).sum() - (df[\"Rating\"] < 4.5).sum()\n",
        "]\n",
        "\n",
        "# Colors for the chart\n",
        "colormap = plt.get_cmap(\"twilight_shifted\")\n",
        "colors = [colormap(i / len(labels)) for i in range(len(labels))]\n",
        "\n",
        "# Plot a pie chart with a hole in the middle (donut chart)\n",
        "plt.figure(figsize=(5, 5))\n",
        "plt.pie(values, labels=labels, colors=colors, autopct='%1.1f%%', startangle=140, wedgeprops=dict(width=0.4, edgecolor='white'))\n",
        "\n",
        "# Set the title\n",
        "plt.title(\"No. of Apps based on their Rating\", fontsize=20)\n",
        "\n",
        "# Show the plot\n",
        "plt.show()\n"
      ],
      "metadata": {
        "id": "nrH2kPjBoOlQ"
      },
      "execution_count": null,
      "outputs": []
    },
    {
      "cell_type": "markdown",
      "source": [
        "## No. of Top Genres\n",
        "This code generates donout chart which shows top 10 genres."
      ],
      "metadata": {
        "id": "MOweXlC2sHVN"
      }
    },
    {
      "cell_type": "code",
      "source": [
        "# Extract labels and values for the top 10 genres\n",
        "labels = df[\"Genres\"].value_counts()[:10].index\n",
        "values = df[\"Genres\"].value_counts()[:10]\n",
        "\n",
        "# Get the 'inferno' colormap and generate colors based on the number of labels\n",
        "colormap = plt.get_cmap(\"inferno\")\n",
        "colors = [colormap(i / len(labels)) for i in range(len(labels))]  # Generate list of colors\n",
        "\n",
        "# Create a pie chart with a hole in the middle (donut chart)\n",
        "plt.figure(figsize=(8, 8))\n",
        "plt.pie(values, labels=labels, colors=colors, autopct='%1.1f%%', pctdistance=0.45 , startangle=140,\n",
        "        wedgeprops=dict(width=0.5, edgecolor='white'))  # Donut chart with white edges\n",
        "\n",
        "# Set title for the chart\n",
        "plt.title(\"No. of Top Genres\", fontsize=20)\n",
        "\n",
        "# Show the plot\n",
        "plt.show()\n"
      ],
      "metadata": {
        "id": "393ITN2ooOOg"
      },
      "execution_count": null,
      "outputs": []
    },
    {
      "cell_type": "markdown",
      "source": [
        "## Count of Apps by Type (Free and Paid)\n",
        "This code generates count plot which shows count of Apps according to thier type- free or paid. From this we can see count of free apps are more than paid apps."
      ],
      "metadata": {
        "id": "9bteCnL596lG"
      }
    },
    {
      "cell_type": "code",
      "source": [
        "sns.countplot(x=df[\"Type\"], palette = \"inferno\")\n",
        "plt.title(\"Count of Apps by Type\")\n",
        "plt.show()"
      ],
      "metadata": {
        "id": "H99e_-t-n9LC"
      },
      "execution_count": null,
      "outputs": []
    },
    {
      "cell_type": "markdown",
      "source": [
        "## Count of Apps by Content Rating based on Type\n",
        "This code genrates a count plot to show the count of apps by Content Rating for each App Type."
      ],
      "metadata": {
        "id": "vhqdkt00-ZTT"
      }
    },
    {
      "cell_type": "code",
      "source": [
        "sns.countplot(x=df[\"Type\"],hue=df[\"Content Rating\"],palette = \"plasma\")\n",
        "plt.title(\"Count of Apps by Content Rating based on Type\")\n",
        "plt.show()"
      ],
      "metadata": {
        "id": "gr2-0gNVn9QL"
      },
      "execution_count": null,
      "outputs": []
    },
    {
      "cell_type": "markdown",
      "source": [
        "## Count of Apps in Each Category by Type\n",
        "This code genrates countplot which shows count of Apps in each Category by type. From this we can see top 3 Free type categories are family, games and tools. And top 3 Paid Apps are family, game and medical."
      ],
      "metadata": {
        "id": "yTUU71P_-qBG"
      }
    },
    {
      "cell_type": "code",
      "source": [
        "plt.figure(figsize=(16,8))\n",
        "sns.countplot(x=df[\"Category\"],hue=df[\"Type\"], palette = \"plasma\")\n",
        "plt.xticks(rotation=90, fontsize=7)\n",
        "plt.title(\"Count of Apps in Each Category by Type\", fontsize = 20)\n",
        "plt.show()"
      ],
      "metadata": {
        "id": "7P8rDEtStnpU"
      },
      "execution_count": null,
      "outputs": []
    },
    {
      "cell_type": "markdown",
      "source": [
        "#  Apps Review Data\n"
      ],
      "metadata": {
        "id": "lHzwpUoX_Vhz"
      }
    },
    {
      "cell_type": "markdown",
      "source": [
        "## Data Cleaning"
      ],
      "metadata": {
        "id": "Nj5p9AN0ASkw"
      }
    },
    {
      "cell_type": "code",
      "source": [
        "# Loading apps review data\n",
        "ddf = pd.read_csv(\"/content/drive/MyDrive/Anudip (Python )/googleplaystore_user_reviews.csv\")"
      ],
      "metadata": {
        "id": "4qdsDdRItn3r"
      },
      "execution_count": null,
      "outputs": []
    },
    {
      "cell_type": "code",
      "source": [
        "# Check Shape of User Review data\n",
        "ddf.shape"
      ],
      "metadata": {
        "id": "o-C6kKK79JQs"
      },
      "execution_count": null,
      "outputs": []
    },
    {
      "cell_type": "markdown",
      "source": [
        "Then we have checked the data to understand its structure and identify any issues such as missing values, duplicate data, incorrect data types, and many more."
      ],
      "metadata": {
        "id": "jJQ2OjVP9h_C"
      }
    },
    {
      "cell_type": "code",
      "source": [
        "ddf.info()\n",
        "# around 40% data is empty"
      ],
      "metadata": {
        "id": "IODWiMustn4Y"
      },
      "execution_count": null,
      "outputs": []
    },
    {
      "cell_type": "code",
      "source": [
        "# checking uniques values\n",
        "ddf.nunique()"
      ],
      "metadata": {
        "id": "a3imFCNXtn85"
      },
      "execution_count": null,
      "outputs": []
    },
    {
      "cell_type": "code",
      "source": [
        "# check how many null values are there\n",
        "ddf.isnull().sum()"
      ],
      "metadata": {
        "id": "3kEG8PLatn9u"
      },
      "execution_count": null,
      "outputs": []
    },
    {
      "cell_type": "code",
      "source": [
        "# droping null values\n",
        "ddf.dropna(inplace=True)"
      ],
      "metadata": {
        "id": "220bG8EFJFmE"
      },
      "execution_count": null,
      "outputs": []
    },
    {
      "cell_type": "code",
      "source": [
        "# checking how many suplicates value are there\n",
        "ddf.duplicated().sum()"
      ],
      "metadata": {
        "id": "xIw_dNaWtoCL"
      },
      "execution_count": null,
      "outputs": []
    },
    {
      "cell_type": "code",
      "source": [
        "# droping duplicates value\n",
        "ddf.drop_duplicates(inplace=True)"
      ],
      "metadata": {
        "id": "v5nzf8g7toDC"
      },
      "execution_count": null,
      "outputs": []
    },
    {
      "cell_type": "code",
      "source": [
        "# Final shape of our data frame\n",
        "ddf.shape"
      ],
      "metadata": {
        "id": "5TgbrGO4toH2"
      },
      "execution_count": null,
      "outputs": []
    },
    {
      "cell_type": "code",
      "source": [
        "# now data is cleaned\n",
        "ddf.info()"
      ],
      "metadata": {
        "id": "1gj4ezGUJFkm"
      },
      "execution_count": null,
      "outputs": []
    },
    {
      "cell_type": "markdown",
      "source": [
        "## Data Visualization"
      ],
      "metadata": {
        "id": "YJPqY6CF-wFO"
      }
    },
    {
      "cell_type": "markdown",
      "source": [
        "## Count of Sentiment\n",
        "This code generates countplot which shows distribution of sentiments (positive, negative and neutral) in the dataset. From this we can see there are lot of positive reviews."
      ],
      "metadata": {
        "id": "BkQ5EmemBJnr"
      }
    },
    {
      "cell_type": "code",
      "source": [
        "sns.countplot(x=ddf[\"Sentiment\"], palette=\"plasma\")\n",
        "plt.title(\"Count of Sentiment\")\n",
        "plt.show()"
      ],
      "metadata": {
        "id": "GfZgN1dxJFf5"
      },
      "execution_count": null,
      "outputs": []
    },
    {
      "cell_type": "markdown",
      "source": [
        "## Sentiment Distribution: Subjectivity vs. Polarity\n",
        "This code generates the scatter plot which shows relationship between sentiment subjectivity and sentiment polarity. From this we can see that user have more positive and negative subjective reviews."
      ],
      "metadata": {
        "id": "wu7YHHkLBUGn"
      }
    },
    {
      "cell_type": "code",
      "source": [
        "sns.scatterplot(x=ddf[\"Sentiment_Subjectivity\"],y=ddf[\"Sentiment_Polarity\"],\n",
        "                hue=ddf[\"Sentiment\"],palette=\"twilight\")\n",
        "plt.title(\"Sentiment Distribution: Subjectivity vs. Polarity\", fontsize =20)\n",
        "plt.show()"
      ],
      "metadata": {
        "id": "1aBkNkFmJFe4"
      },
      "execution_count": null,
      "outputs": []
    },
    {
      "cell_type": "markdown",
      "source": [
        "# Merging both data frames"
      ],
      "metadata": {
        "id": "QP7peGt8KyXO"
      }
    },
    {
      "cell_type": "code",
      "source": [
        "# Now we are merging our app data and apps review data file and creating new file which is merged file\n",
        "df_new = pd.merge(df,ddf,on=\"App\",how=\"inner\") # app column is common in both the tables\n",
        "df_new.to_csv('merged_file.xlsx', index=False)"
      ],
      "metadata": {
        "id": "1HsPw1wrJFZ9"
      },
      "execution_count": null,
      "outputs": []
    },
    {
      "cell_type": "markdown",
      "source": [
        "## Data Visualization"
      ],
      "metadata": {
        "id": "UALKNxDC-5zn"
      }
    },
    {
      "cell_type": "markdown",
      "source": [
        "## Sentiment Distribution: Subjectivity vs. Polarity by Content Rating\n",
        "This code generates scatter plot which shows the relationship between sentiment subjectivity and polarity based on content rating. From this we can see that content related to everyone have more positive and negative subjective reviews."
      ],
      "metadata": {
        "id": "_ZxD5vTNDBvG"
      }
    },
    {
      "cell_type": "code",
      "source": [
        "colors = ['steelblue','indianred','forestgreen','orange','darkmagenta']\n",
        "sns.scatterplot(x=df_new[\"Sentiment_Subjectivity\"],y=df_new[\"Sentiment_Polarity\"],\n",
        "                hue=df_new[\"Content Rating\"], palette = colors)\n",
        "plt.title(\"Sentiment Distribution: Subjectivity vs. Polarity by Content Rating \", fontsize =20)\n",
        "plt.show()"
      ],
      "metadata": {
        "id": "DR7ePzEUJFZA"
      },
      "execution_count": null,
      "outputs": []
    },
    {
      "cell_type": "markdown",
      "source": [
        "## Sentiment Analysis by App Type\n",
        "This code generates a countplot which shows senitment analysis by app type (free and paid). Here we can see that free apps have more positive reviews than paid apps."
      ],
      "metadata": {
        "id": "cqFn2FSgD-BM"
      }
    },
    {
      "cell_type": "code",
      "source": [
        "sns.countplot(hue=df_new[\"Sentiment\"],x=df_new[\"Type\"],palette = \"inferno\")\n",
        "plt.title(\"Sentiment Analysis by App Type\")"
      ],
      "metadata": {
        "id": "gfcIGvV6Om1O"
      },
      "execution_count": null,
      "outputs": []
    },
    {
      "cell_type": "markdown",
      "source": [
        "## Sentiment Analysis by App Category\n",
        "This code generates a countplot which shows senitment analysis by app category."
      ],
      "metadata": {
        "id": "GZ4498sDELeK"
      }
    },
    {
      "cell_type": "code",
      "source": [
        "plt.figure(figsize=(16,8))\n",
        "fig=sns.countplot(hue=df_new[\"Sentiment\"],x=df_new[\"Category\"], palette = \"plasma\")\n",
        "plt.xticks(rotation=90, fontsize=7)\n",
        "plt.title(\"Sentiment Analysis by App Category\", fontsize = 20)\n",
        "plt.show()"
      ],
      "metadata": {
        "id": "Zp2ZQhK9OmwU"
      },
      "execution_count": null,
      "outputs": []
    }
  ]
}